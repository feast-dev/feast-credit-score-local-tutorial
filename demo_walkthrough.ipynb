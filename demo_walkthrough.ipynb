{
 "cells": [
  {
   "cell_type": "markdown",
   "id": "1f006a8b-9ede-4571-824d-0a40e80042a2",
   "metadata": {},
   "source": [
    "## First, install the python dependencies"
   ]
  },
  {
   "cell_type": "code",
   "execution_count": 1,
   "id": "dadefe7a-225a-431b-8817-9d81cbb9e985",
   "metadata": {},
   "outputs": [
    {
     "name": "stdout",
     "output_type": "stream",
     "text": [
      "Requirement already satisfied: pip in /opt/app-root/lib64/python3.11/site-packages (25.0.1)\n",
      "Requirement already satisfied: streamlit==1.42.0 in /opt/app-root/lib64/python3.11/site-packages (from -r requirements.txt (line 1)) (1.42.0)\n",
      "Requirement already satisfied: shap in /opt/app-root/lib64/python3.11/site-packages (from -r requirements.txt (line 2)) (0.47.0)\n",
      "Requirement already satisfied: pandas in /opt/app-root/lib64/python3.11/site-packages (from -r requirements.txt (line 3)) (2.2.3)\n",
      "Requirement already satisfied: scikit-learn in /opt/app-root/lib64/python3.11/site-packages (from -r requirements.txt (line 4)) (1.5.2)\n",
      "Requirement already satisfied: matplotlib in /opt/app-root/lib64/python3.11/site-packages (from -r requirements.txt (line 5)) (3.9.4)\n",
      "Requirement already satisfied: feast in /opt/app-root/lib64/python3.11/site-packages (from -r requirements.txt (line 6)) (0.47.0)\n",
      "Requirement already satisfied: ibis-framework in /opt/app-root/lib64/python3.11/site-packages (from -r requirements.txt (line 7)) (10.3.0)\n",
      "Requirement already satisfied: redis in /opt/app-root/lib64/python3.11/site-packages (from -r requirements.txt (line 8)) (5.2.1)\n",
      "Requirement already satisfied: duckdb in /opt/app-root/lib64/python3.11/site-packages (from -r requirements.txt (line 9)) (1.2.1)\n",
      "Collecting pyarrow_hotfix (from -r requirements.txt (line 10))\n",
      "  Downloading pyarrow_hotfix-0.6-py3-none-any.whl.metadata (3.6 kB)\n",
      "Requirement already satisfied: altair<6,>=4.0 in /opt/app-root/lib64/python3.11/site-packages (from streamlit==1.42.0->-r requirements.txt (line 1)) (5.5.0)\n",
      "Requirement already satisfied: blinker<2,>=1.0.0 in /opt/app-root/lib64/python3.11/site-packages (from streamlit==1.42.0->-r requirements.txt (line 1)) (1.9.0)\n",
      "Requirement already satisfied: cachetools<6,>=4.0 in /opt/app-root/lib64/python3.11/site-packages (from streamlit==1.42.0->-r requirements.txt (line 1)) (5.5.1)\n",
      "Requirement already satisfied: click<9,>=7.0 in /opt/app-root/lib64/python3.11/site-packages (from streamlit==1.42.0->-r requirements.txt (line 1)) (8.1.8)\n",
      "Requirement already satisfied: numpy<3,>=1.23 in /opt/app-root/lib64/python3.11/site-packages (from streamlit==1.42.0->-r requirements.txt (line 1)) (1.26.4)\n",
      "Requirement already satisfied: packaging<25,>=20 in /opt/app-root/lib64/python3.11/site-packages (from streamlit==1.42.0->-r requirements.txt (line 1)) (24.2)\n",
      "Requirement already satisfied: pillow<12,>=7.1.0 in /opt/app-root/lib64/python3.11/site-packages (from streamlit==1.42.0->-r requirements.txt (line 1)) (11.1.0)\n",
      "Requirement already satisfied: protobuf<6,>=3.20 in /opt/app-root/lib64/python3.11/site-packages (from streamlit==1.42.0->-r requirements.txt (line 1)) (4.25.6)\n",
      "Requirement already satisfied: pyarrow>=7.0 in /opt/app-root/lib64/python3.11/site-packages (from streamlit==1.42.0->-r requirements.txt (line 1)) (18.0.0)\n",
      "Requirement already satisfied: requests<3,>=2.27 in /opt/app-root/lib64/python3.11/site-packages (from streamlit==1.42.0->-r requirements.txt (line 1)) (2.32.3)\n",
      "Requirement already satisfied: rich<14,>=10.14.0 in /opt/app-root/lib64/python3.11/site-packages (from streamlit==1.42.0->-r requirements.txt (line 1)) (13.9.4)\n",
      "Requirement already satisfied: tenacity<10,>=8.1.0 in /opt/app-root/lib64/python3.11/site-packages (from streamlit==1.42.0->-r requirements.txt (line 1)) (8.5.0)\n",
      "Requirement already satisfied: toml<2,>=0.10.1 in /opt/app-root/lib64/python3.11/site-packages (from streamlit==1.42.0->-r requirements.txt (line 1)) (0.10.2)\n",
      "Requirement already satisfied: typing-extensions<5,>=4.4.0 in /opt/app-root/lib64/python3.11/site-packages (from streamlit==1.42.0->-r requirements.txt (line 1)) (4.12.2)\n",
      "Requirement already satisfied: watchdog<7,>=2.1.5 in /opt/app-root/lib64/python3.11/site-packages (from streamlit==1.42.0->-r requirements.txt (line 1)) (6.0.0)\n",
      "Requirement already satisfied: gitpython!=3.1.19,<4,>=3.0.7 in /opt/app-root/lib64/python3.11/site-packages (from streamlit==1.42.0->-r requirements.txt (line 1)) (3.1.44)\n",
      "Requirement already satisfied: pydeck<1,>=0.8.0b4 in /opt/app-root/lib64/python3.11/site-packages (from streamlit==1.42.0->-r requirements.txt (line 1)) (0.9.1)\n",
      "Requirement already satisfied: tornado<7,>=6.0.3 in /opt/app-root/lib64/python3.11/site-packages (from streamlit==1.42.0->-r requirements.txt (line 1)) (6.4.2)\n",
      "Requirement already satisfied: scipy in /opt/app-root/lib64/python3.11/site-packages (from shap->-r requirements.txt (line 2)) (1.14.1)\n",
      "Requirement already satisfied: tqdm>=4.27.0 in /opt/app-root/lib64/python3.11/site-packages (from shap->-r requirements.txt (line 2)) (4.67.1)\n",
      "Requirement already satisfied: slicer==0.0.8 in /opt/app-root/lib64/python3.11/site-packages (from shap->-r requirements.txt (line 2)) (0.0.8)\n",
      "Requirement already satisfied: numba>=0.54 in /opt/app-root/lib64/python3.11/site-packages (from shap->-r requirements.txt (line 2)) (0.61.0)\n",
      "Requirement already satisfied: cloudpickle in /opt/app-root/lib64/python3.11/site-packages (from shap->-r requirements.txt (line 2)) (3.1.1)\n",
      "Requirement already satisfied: python-dateutil>=2.8.2 in /opt/app-root/lib64/python3.11/site-packages (from pandas->-r requirements.txt (line 3)) (2.9.0.post0)\n",
      "Requirement already satisfied: pytz>=2020.1 in /opt/app-root/lib64/python3.11/site-packages (from pandas->-r requirements.txt (line 3)) (2025.1)\n",
      "Requirement already satisfied: tzdata>=2022.7 in /opt/app-root/lib64/python3.11/site-packages (from pandas->-r requirements.txt (line 3)) (2025.1)\n",
      "Requirement already satisfied: joblib>=1.2.0 in /opt/app-root/lib64/python3.11/site-packages (from scikit-learn->-r requirements.txt (line 4)) (1.4.2)\n",
      "Requirement already satisfied: threadpoolctl>=3.1.0 in /opt/app-root/lib64/python3.11/site-packages (from scikit-learn->-r requirements.txt (line 4)) (3.5.0)\n",
      "Requirement already satisfied: contourpy>=1.0.1 in /opt/app-root/lib64/python3.11/site-packages (from matplotlib->-r requirements.txt (line 5)) (1.3.1)\n",
      "Requirement already satisfied: cycler>=0.10 in /opt/app-root/lib64/python3.11/site-packages (from matplotlib->-r requirements.txt (line 5)) (0.12.1)\n",
      "Requirement already satisfied: fonttools>=4.22.0 in /opt/app-root/lib64/python3.11/site-packages (from matplotlib->-r requirements.txt (line 5)) (4.56.0)\n",
      "Requirement already satisfied: kiwisolver>=1.3.1 in /opt/app-root/lib64/python3.11/site-packages (from matplotlib->-r requirements.txt (line 5)) (1.4.8)\n",
      "Requirement already satisfied: pyparsing>=2.3.1 in /opt/app-root/lib64/python3.11/site-packages (from matplotlib->-r requirements.txt (line 5)) (3.2.1)\n",
      "Requirement already satisfied: colorama<1,>=0.3.9 in /opt/app-root/lib64/python3.11/site-packages (from feast->-r requirements.txt (line 6)) (0.4.6)\n",
      "Requirement already satisfied: dill~=0.3.0 in /opt/app-root/lib64/python3.11/site-packages (from feast->-r requirements.txt (line 6)) (0.3.9)\n",
      "Requirement already satisfied: Jinja2<4,>=2 in /opt/app-root/lib64/python3.11/site-packages (from feast->-r requirements.txt (line 6)) (3.1.5)\n",
      "Requirement already satisfied: jsonschema in /opt/app-root/lib64/python3.11/site-packages (from feast->-r requirements.txt (line 6)) (4.23.0)\n",
      "Requirement already satisfied: mmh3 in /opt/app-root/lib64/python3.11/site-packages (from feast->-r requirements.txt (line 6)) (5.1.0)\n",
      "Requirement already satisfied: pydantic>=2.0.0 in /opt/app-root/lib64/python3.11/site-packages (from feast->-r requirements.txt (line 6)) (2.10.6)\n",
      "Requirement already satisfied: pygments<3,>=2.12.0 in /opt/app-root/lib64/python3.11/site-packages (from feast->-r requirements.txt (line 6)) (2.19.1)\n",
      "Requirement already satisfied: PyYAML<7,>=5.4.0 in /opt/app-root/lib64/python3.11/site-packages (from feast->-r requirements.txt (line 6)) (6.0.2)\n",
      "Requirement already satisfied: SQLAlchemy>1 in /opt/app-root/lib64/python3.11/site-packages (from SQLAlchemy[mypy]>1->feast->-r requirements.txt (line 6)) (2.0.39)\n",
      "Requirement already satisfied: tabulate<1,>=0.8.0 in /opt/app-root/lib64/python3.11/site-packages (from feast->-r requirements.txt (line 6)) (0.9.0)\n",
      "Requirement already satisfied: typeguard>=4.0.0 in /opt/app-root/lib64/python3.11/site-packages (from feast->-r requirements.txt (line 6)) (4.4.2)\n",
      "Requirement already satisfied: fastapi>=0.68.0 in /opt/app-root/lib64/python3.11/site-packages (from feast->-r requirements.txt (line 6)) (0.115.11)\n",
      "Requirement already satisfied: uvicorn<1,>=0.14.0 in /opt/app-root/lib64/python3.11/site-packages (from uvicorn[standard]<1,>=0.14.0->feast->-r requirements.txt (line 6)) (0.34.0)\n",
      "Requirement already satisfied: uvicorn-worker in /opt/app-root/lib64/python3.11/site-packages (from feast->-r requirements.txt (line 6)) (0.3.0)\n",
      "Requirement already satisfied: gunicorn in /opt/app-root/lib64/python3.11/site-packages (from feast->-r requirements.txt (line 6)) (23.0.0)\n",
      "Requirement already satisfied: dask>=2024.2.1 in /opt/app-root/lib64/python3.11/site-packages (from dask[dataframe]>=2024.2.1->feast->-r requirements.txt (line 6)) (2025.2.0)\n",
      "Requirement already satisfied: prometheus_client in /opt/app-root/lib64/python3.11/site-packages (from feast->-r requirements.txt (line 6)) (0.21.1)\n",
      "Requirement already satisfied: psutil in /opt/app-root/lib64/python3.11/site-packages (from feast->-r requirements.txt (line 6)) (5.9.8)\n",
      "Requirement already satisfied: bigtree>=0.19.2 in /opt/app-root/lib64/python3.11/site-packages (from feast->-r requirements.txt (line 6)) (0.25.1)\n",
      "Requirement already satisfied: pyjwt in /opt/app-root/lib64/python3.11/site-packages (from feast->-r requirements.txt (line 6)) (2.10.1)\n",
      "Requirement already satisfied: atpublic>=2.3 in /opt/app-root/lib64/python3.11/site-packages (from ibis-framework->-r requirements.txt (line 7)) (5.1)\n",
      "Requirement already satisfied: parsy>=2 in /opt/app-root/lib64/python3.11/site-packages (from ibis-framework->-r requirements.txt (line 7)) (2.1)\n",
      "Requirement already satisfied: sqlglot>=23.4 in /opt/app-root/lib64/python3.11/site-packages (from ibis-framework->-r requirements.txt (line 7)) (26.9.0)\n",
      "Requirement already satisfied: toolz>=0.11 in /opt/app-root/lib64/python3.11/site-packages (from ibis-framework->-r requirements.txt (line 7)) (1.0.0)\n",
      "Requirement already satisfied: narwhals>=1.14.2 in /opt/app-root/lib64/python3.11/site-packages (from altair<6,>=4.0->streamlit==1.42.0->-r requirements.txt (line 1)) (1.30.0)\n",
      "Requirement already satisfied: fsspec>=2021.09.0 in /opt/app-root/lib64/python3.11/site-packages (from dask>=2024.2.1->dask[dataframe]>=2024.2.1->feast->-r requirements.txt (line 6)) (2025.2.0)\n",
      "Requirement already satisfied: partd>=1.4.0 in /opt/app-root/lib64/python3.11/site-packages (from dask>=2024.2.1->dask[dataframe]>=2024.2.1->feast->-r requirements.txt (line 6)) (1.4.2)\n",
      "Requirement already satisfied: importlib_metadata>=4.13.0 in /opt/app-root/lib64/python3.11/site-packages (from dask>=2024.2.1->dask[dataframe]>=2024.2.1->feast->-r requirements.txt (line 6)) (8.6.1)\n",
      "Requirement already satisfied: starlette<0.47.0,>=0.40.0 in /opt/app-root/lib64/python3.11/site-packages (from fastapi>=0.68.0->feast->-r requirements.txt (line 6)) (0.46.1)\n",
      "Requirement already satisfied: gitdb<5,>=4.0.1 in /opt/app-root/lib64/python3.11/site-packages (from gitpython!=3.1.19,<4,>=3.0.7->streamlit==1.42.0->-r requirements.txt (line 1)) (4.0.12)\n",
      "Requirement already satisfied: MarkupSafe>=2.0 in /opt/app-root/lib64/python3.11/site-packages (from Jinja2<4,>=2->feast->-r requirements.txt (line 6)) (3.0.2)\n",
      "Requirement already satisfied: attrs>=22.2.0 in /opt/app-root/lib64/python3.11/site-packages (from jsonschema->feast->-r requirements.txt (line 6)) (25.1.0)\n",
      "Requirement already satisfied: jsonschema-specifications>=2023.03.6 in /opt/app-root/lib64/python3.11/site-packages (from jsonschema->feast->-r requirements.txt (line 6)) (2024.10.1)\n",
      "Requirement already satisfied: referencing>=0.28.4 in /opt/app-root/lib64/python3.11/site-packages (from jsonschema->feast->-r requirements.txt (line 6)) (0.36.2)\n",
      "Requirement already satisfied: rpds-py>=0.7.1 in /opt/app-root/lib64/python3.11/site-packages (from jsonschema->feast->-r requirements.txt (line 6)) (0.22.3)\n",
      "Requirement already satisfied: llvmlite<0.45,>=0.44.0dev0 in /opt/app-root/lib64/python3.11/site-packages (from numba>=0.54->shap->-r requirements.txt (line 2)) (0.44.0)\n",
      "Requirement already satisfied: annotated-types>=0.6.0 in /opt/app-root/lib64/python3.11/site-packages (from pydantic>=2.0.0->feast->-r requirements.txt (line 6)) (0.7.0)\n",
      "Requirement already satisfied: pydantic-core==2.27.2 in /opt/app-root/lib64/python3.11/site-packages (from pydantic>=2.0.0->feast->-r requirements.txt (line 6)) (2.27.2)\n",
      "Requirement already satisfied: six>=1.5 in /opt/app-root/lib64/python3.11/site-packages (from python-dateutil>=2.8.2->pandas->-r requirements.txt (line 3)) (1.17.0)\n",
      "Requirement already satisfied: charset-normalizer<4,>=2 in /opt/app-root/lib64/python3.11/site-packages (from requests<3,>=2.27->streamlit==1.42.0->-r requirements.txt (line 1)) (3.4.1)\n",
      "Requirement already satisfied: idna<4,>=2.5 in /opt/app-root/lib64/python3.11/site-packages (from requests<3,>=2.27->streamlit==1.42.0->-r requirements.txt (line 1)) (3.10)\n",
      "Requirement already satisfied: urllib3<3,>=1.21.1 in /opt/app-root/lib64/python3.11/site-packages (from requests<3,>=2.27->streamlit==1.42.0->-r requirements.txt (line 1)) (1.26.20)\n",
      "Requirement already satisfied: certifi>=2017.4.17 in /opt/app-root/lib64/python3.11/site-packages (from requests<3,>=2.27->streamlit==1.42.0->-r requirements.txt (line 1)) (2025.1.31)\n",
      "Requirement already satisfied: markdown-it-py>=2.2.0 in /opt/app-root/lib64/python3.11/site-packages (from rich<14,>=10.14.0->streamlit==1.42.0->-r requirements.txt (line 1)) (3.0.0)\n",
      "Requirement already satisfied: greenlet!=0.4.17 in /opt/app-root/lib64/python3.11/site-packages (from SQLAlchemy>1->SQLAlchemy[mypy]>1->feast->-r requirements.txt (line 6)) (3.1.1)\n",
      "Requirement already satisfied: mypy>=0.910 in /opt/app-root/lib64/python3.11/site-packages (from SQLAlchemy[mypy]>1->feast->-r requirements.txt (line 6)) (1.15.0)\n",
      "Requirement already satisfied: h11>=0.8 in /opt/app-root/lib64/python3.11/site-packages (from uvicorn<1,>=0.14.0->uvicorn[standard]<1,>=0.14.0->feast->-r requirements.txt (line 6)) (0.14.0)\n",
      "Requirement already satisfied: httptools>=0.6.3 in /opt/app-root/lib64/python3.11/site-packages (from uvicorn[standard]<1,>=0.14.0->feast->-r requirements.txt (line 6)) (0.6.4)\n",
      "Requirement already satisfied: python-dotenv>=0.13 in /opt/app-root/lib64/python3.11/site-packages (from uvicorn[standard]<1,>=0.14.0->feast->-r requirements.txt (line 6)) (1.0.1)\n",
      "Requirement already satisfied: uvloop!=0.15.0,!=0.15.1,>=0.14.0 in /opt/app-root/lib64/python3.11/site-packages (from uvicorn[standard]<1,>=0.14.0->feast->-r requirements.txt (line 6)) (0.21.0)\n",
      "Requirement already satisfied: watchfiles>=0.13 in /opt/app-root/lib64/python3.11/site-packages (from uvicorn[standard]<1,>=0.14.0->feast->-r requirements.txt (line 6)) (1.0.4)\n",
      "Requirement already satisfied: websockets>=10.4 in /opt/app-root/lib64/python3.11/site-packages (from uvicorn[standard]<1,>=0.14.0->feast->-r requirements.txt (line 6)) (15.0.1)\n",
      "Requirement already satisfied: smmap<6,>=3.0.1 in /opt/app-root/lib64/python3.11/site-packages (from gitdb<5,>=4.0.1->gitpython!=3.1.19,<4,>=3.0.7->streamlit==1.42.0->-r requirements.txt (line 1)) (5.0.2)\n",
      "Requirement already satisfied: zipp>=3.20 in /opt/app-root/lib64/python3.11/site-packages (from importlib_metadata>=4.13.0->dask>=2024.2.1->dask[dataframe]>=2024.2.1->feast->-r requirements.txt (line 6)) (3.21.0)\n",
      "Requirement already satisfied: mdurl~=0.1 in /opt/app-root/lib64/python3.11/site-packages (from markdown-it-py>=2.2.0->rich<14,>=10.14.0->streamlit==1.42.0->-r requirements.txt (line 1)) (0.1.2)\n",
      "Requirement already satisfied: mypy_extensions>=1.0.0 in /opt/app-root/lib64/python3.11/site-packages (from mypy>=0.910->SQLAlchemy[mypy]>1->feast->-r requirements.txt (line 6)) (1.0.0)\n",
      "Requirement already satisfied: locket in /opt/app-root/lib64/python3.11/site-packages (from partd>=1.4.0->dask>=2024.2.1->dask[dataframe]>=2024.2.1->feast->-r requirements.txt (line 6)) (1.0.0)\n",
      "Requirement already satisfied: anyio<5,>=3.6.2 in /opt/app-root/lib64/python3.11/site-packages (from starlette<0.47.0,>=0.40.0->fastapi>=0.68.0->feast->-r requirements.txt (line 6)) (4.8.0)\n",
      "Requirement already satisfied: sniffio>=1.1 in /opt/app-root/lib64/python3.11/site-packages (from anyio<5,>=3.6.2->starlette<0.47.0,>=0.40.0->fastapi>=0.68.0->feast->-r requirements.txt (line 6)) (1.3.1)\n",
      "Downloading pyarrow_hotfix-0.6-py3-none-any.whl (7.9 kB)\n",
      "Installing collected packages: pyarrow_hotfix\n",
      "Successfully installed pyarrow_hotfix-0.6\n"
     ]
    }
   ],
   "source": [
    "!pip install --upgrade pip && pip install -r requirements.txt"
   ]
  },
  {
   "cell_type": "code",
   "execution_count": 11,
   "id": "18c695d5-90a3-4ed1-91c9-576151807385",
   "metadata": {},
   "outputs": [
    {
     "name": "stdout",
     "output_type": "stream",
     "text": [
      "Model was already trained in a previous run\n",
      "Submitting a prediction to the model with data {'zipcode': [76104], 'dob_ssn': ['19630621_4278'], 'person_age': [133], 'person_income': [59000], 'person_home_ownership': ['RENT'], 'person_emp_length': [123.0], 'loan_intent': ['PERSONAL'], 'loan_amnt': [35000], 'loan_int_rate': [16.02]}\n",
      "Data returned from online store for request:\n",
      "         dob_ssn  total_debt_due  credit_card_due  mortgage_due  \\\n",
      "0  19630621_4278        473071.0             3343        378847   \n",
      "\n",
      "   student_loan_due  vehicle_loan_due  loan_amnt  \n",
      "0             44375             11506      35000  \n",
      "Loan rejected!\n"
     ]
    }
   ],
   "source": [
    "!python run.py"
   ]
  },
  {
   "cell_type": "markdown",
   "id": "d7257b8e-5e24-41ef-922b-ed656537fe56",
   "metadata": {},
   "source": [
    "## Explore some entities, etc. on Feast"
   ]
  },
  {
   "cell_type": "code",
   "execution_count": 23,
   "id": "67b04780-0e35-486a-b8d1-3061e63b168a",
   "metadata": {},
   "outputs": [
    {
     "name": "stdout",
     "output_type": "stream",
     "text": [
      "NAME              CLASS\n",
      "Credit history    <class 'feast.infra.offline_stores.file_source.FileSource'>\n",
      "Zipcode source    <class 'feast.infra.offline_stores.file_source.FileSource'>\n",
      "application_data  <class 'feast.data_source.RequestSource'>\n"
     ]
    }
   ],
   "source": [
    "!feast -c feature_repo data-sources list"
   ]
  },
  {
   "cell_type": "code",
   "execution_count": 18,
   "id": "41d7d31b-1bcc-4cea-b9a3-aab9be4cf25c",
   "metadata": {},
   "outputs": [
    {
     "name": "stdout",
     "output_type": "stream",
     "text": [
      "NAME     DESCRIPTION                                                   TYPE\n",
      "dob_ssn  Date of birth and last four digits of social security number  ValueType.STRING\n",
      "zipcode                                                                ValueType.INT64\n"
     ]
    }
   ],
   "source": [
    "!feast -c feature_repo entities list"
   ]
  },
  {
   "cell_type": "code",
   "execution_count": 20,
   "id": "3fdd36ae-9722-4456-958b-3d331b47ceee",
   "metadata": {},
   "outputs": [
    {
     "name": "stdout",
     "output_type": "stream",
     "text": [
      "NAME              ENTITIES     TYPE\n",
      "credit_history    {'dob_ssn'}  FeatureView\n",
      "zipcode_features  {'zipcode'}  FeatureView\n",
      "total_debt_calc   {'dob_ssn'}  OnDemandFeatureView\n"
     ]
    }
   ],
   "source": [
    "!feast -c feature_repo feature-views list"
   ]
  },
  {
   "cell_type": "code",
   "execution_count": 22,
   "id": "02ae38b7-60ae-4959-9904-267b923daa55",
   "metadata": {},
   "outputs": [
    {
     "name": "stdout",
     "output_type": "stream",
     "text": [
      "spec:\n",
      "  name: total_debt_calc\n",
      "  features:\n",
      "  - name: total_debt_due\n",
      "    valueType: DOUBLE\n",
      "  sources:\n",
      "    application_data:\n",
      "      requestDataSource:\n",
      "        type: REQUEST_SOURCE\n",
      "        requestDataOptions:\n",
      "          schema:\n",
      "          - name: loan_amnt\n",
      "            valueType: INT64\n",
      "        name: application_data\n",
      "    credit_history:\n",
      "      featureViewProjection:\n",
      "        featureViewName: credit_history\n",
      "        featureColumns:\n",
      "        - name: credit_card_due\n",
      "          valueType: INT64\n",
      "        - name: mortgage_due\n",
      "          valueType: INT64\n",
      "        - name: student_loan_due\n",
      "          valueType: INT64\n",
      "        - name: vehicle_loan_due\n",
      "          valueType: INT64\n",
      "        - name: hard_pulls\n",
      "          valueType: INT64\n",
      "        - name: missed_payments_2y\n",
      "          valueType: INT64\n",
      "        - name: missed_payments_1y\n",
      "          valueType: INT64\n",
      "        - name: missed_payments_6m\n",
      "          valueType: INT64\n",
      "        - name: bankruptcies\n",
      "          valueType: INT64\n",
      "        timestampField: created_timestamp\n",
      "        createdTimestampColumn: created_timestamp\n",
      "        batchSource:\n",
      "          type: BATCH_FILE\n",
      "          timestampField: event_timestamp\n",
      "          createdTimestampColumn: created_timestamp\n",
      "          fileOptions:\n",
      "            fileFormat:\n",
      "              parquetFormat: {}\n",
      "            uri: data/credit_history.parquet\n",
      "          name: Credit history\n",
      "  featureTransformation:\n",
      "    userDefinedFunction:\n",
      "      name: total_debt_calc\n",
      "      body: gASVRwMAAAAAAACMCmRpbGwuX2RpbGyUjBBfY3JlYXRlX2Z1bmN0aW9ulJOUKGgAjAxfY3JlYXRlX2NvZGWUk5QoQxYCCyYCIAEO/wQBDv8EAg7+BAMw/AgFlEsBSwBLAEsCSwNLA0O6lwB0AQAAAAAAAAAAAABqAQAAAAAAAAAApgAAAKsAAAAAAAAAAAB9AXwAZAEZAAAAAAAAAAAAfABkAhkAAAAAAAAAAAB6AAAAfABkAxkAAAAAAAAAAAB6AAAAfABkBBkAAAAAAAAAAAB6AAAAfABkBRkAAAAAAAAAAAB6AAAAoAIAAAAAAAAAAAAAAAAAAAAAAAAAAHQGAAAAAAAAAAAAAKYBAACrAQAAAAAAAAAAfAFkBjwAAAB8AVMAlChOjA9jcmVkaXRfY2FyZF9kdWWUjAxtb3J0Z2FnZV9kdWWUjBBzdHVkZW50X2xvYW5fZHVllIwQdmVoaWNsZV9sb2FuX2R1ZZSMCWxvYW5fYW1udJSMDnRvdGFsX2RlYnRfZHVllHSUKIwCcGSUjAlEYXRhRnJhbWWUjAZhc3R5cGWUjAVmbG9hdJR0lIwLZmVhdHVyZXNfZGaUjAJkZpSGlIxML29wdC9hcHAtcm9vdC9zcmMvZmVhc3QtY3JlZGl0LXNjb3JlLWxvY2FsLXR1dG9yaWFsL2ZlYXR1cmVfcmVwby9mZWF0dXJlcy5weZSMD3RvdGFsX2RlYnRfY2FsY5RoF0tTQ2uAAPUWAAoMjByJHowegELgCBPQFCXUCCaoG7Be1ClE0QhE2AgT0BQm1Agn8QMBCSjYKjXQNkjUKknxAwEJSgHgCBOQS9QIIPEFAgkh9wYABw2CZo1VgW2EbfAJAAUH0AcX0QQY8AoADA6ASZRDAJQpKXSUUpR9lIwIX19uYW1lX1+UjAhfX21haW5fX5RzaBdOTnSUUpR9lH2UjA9fX2Fubm90YXRpb25zX1+UfZQoaBOMEXBhbmRhcy5jb3JlLmZyYW1llGgPk5SMBnJldHVybpRoJnVzhpRiaBwojAJwZJRoAIwOX2ltcG9ydF9tb2R1bGWUk5SMBnBhbmRhc5SFlFKUjAVmbG9hdJRoAIwKX2xvYWRfdHlwZZSTlGgRhZRSlHUwLg==\n",
      "      bodyText: \"@on_demand_feature_view(\\n   sources=[\\n       credit_history,\\n\\\n",
      "        \\       input_request,\\n   ],\\n   schema=[\\n     Field(name='total_debt_due',\\\n",
      "        \\ dtype=Float64),\\n   ],\\n   mode=\\\"pandas\\\",\\n)\\ndef total_debt_calc(features_df:\\\n",
      "        \\ pd.DataFrame) -> pd.DataFrame:\\n    df = pd.DataFrame()\\n    df['total_debt_due']\\\n",
      "        \\ = (\\n        features_df['credit_card_due'] + features_df['mortgage_due']\\\n",
      "        \\ + \\n        features_df['student_loan_due'] + features_df['vehicle_loan_due']\\\n",
      "        \\ + \\n        features_df['loan_amnt']\\n    ).astype(float)\\n    return df\\\n",
      "        \\ \\n\"\n",
      "  mode: pandas\n",
      "  entities:\n",
      "  - __dummy\n",
      "  entityColumns:\n",
      "  - name: __dummy_id\n",
      "    valueType: STRING\n",
      "meta:\n",
      "  createdTimestamp: '2025-03-12T20:18:34.869773Z'\n",
      "  lastUpdatedTimestamp: '2025-03-12T20:18:34.869773Z'\n",
      "\n"
     ]
    }
   ],
   "source": [
    "!feast -c feature_repo on-demand-feature-views describe total_debt_calc"
   ]
  }
 ],
 "metadata": {
  "kernelspec": {
   "display_name": "Python 3.11",
   "language": "python",
   "name": "python3"
  },
  "language_info": {
   "codemirror_mode": {
    "name": "ipython",
    "version": 3
   },
   "file_extension": ".py",
   "mimetype": "text/x-python",
   "name": "python",
   "nbconvert_exporter": "python",
   "pygments_lexer": "ipython3",
   "version": "3.11.9"
  }
 },
 "nbformat": 4,
 "nbformat_minor": 5
}
