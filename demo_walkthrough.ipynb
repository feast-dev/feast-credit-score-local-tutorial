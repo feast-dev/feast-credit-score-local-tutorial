{
 "cells": [
  {
   "cell_type": "markdown",
   "metadata": {},
   "source": [
    "## First, install the Python dependencies"
   ]
  },
  {
   "cell_type": "code",
   "execution_count": 1,
   "metadata": {},
   "outputs": [
    {
     "name": "stdout",
     "output_type": "stream",
     "text": [
      "Requirement already satisfied: pip in /opt/app-root/lib64/python3.11/site-packages (24.2)\n",
      "Collecting pip\n",
      "  Downloading pip-25.0.1-py3-none-any.whl.metadata (3.7 kB)\n",
      "Downloading pip-25.0.1-py3-none-any.whl (1.8 MB)\n",
      "\u001b[2K   \u001b[90m━━━━━━━━━━━━━━━━━━━━━━━━━━━━━━━━━━━━━━━━\u001b[0m \u001b[32m1.8/1.8 MB\u001b[0m \u001b[31m93.0 MB/s\u001b[0m eta \u001b[36m0:00:00\u001b[0m\n",
      "\u001b[?25hInstalling collected packages: pip\n",
      "  Attempting uninstall: pip\n",
      "    Found existing installation: pip 24.2\n",
      "    Uninstalling pip-24.2:\n",
      "      Successfully uninstalled pip-24.2\n",
      "Successfully installed pip-25.0.1\n",
      "Collecting streamlit==1.42.0 (from -r requirements.txt (line 1))\n",
      "  Downloading streamlit-1.42.0-py2.py3-none-any.whl.metadata (8.9 kB)\n",
      "Collecting shap (from -r requirements.txt (line 2))\n",
      "  Downloading shap-0.47.0-cp311-cp311-manylinux_2_17_x86_64.manylinux2014_x86_64.whl.metadata (24 kB)\n",
      "Requirement already satisfied: pandas in /opt/app-root/lib64/python3.11/site-packages (from -r requirements.txt (line 3)) (2.2.3)\n",
      "Requirement already satisfied: scikit-learn in /opt/app-root/lib64/python3.11/site-packages (from -r requirements.txt (line 4)) (1.5.2)\n",
      "Requirement already satisfied: matplotlib in /opt/app-root/lib64/python3.11/site-packages (from -r requirements.txt (line 5)) (3.9.4)\n",
      "Collecting feast (from -r requirements.txt (line 6))\n",
      "  Downloading feast-0.47.0-py2.py3-none-any.whl.metadata (33 kB)\n",
      "Collecting ibis-framework (from -r requirements.txt (line 7))\n",
      "  Downloading ibis_framework-10.3.1-py3-none-any.whl.metadata (20 kB)\n",
      "Collecting redis (from -r requirements.txt (line 8))\n",
      "  Downloading redis-5.2.1-py3-none-any.whl.metadata (9.1 kB)\n",
      "Collecting duckdb (from -r requirements.txt (line 9))\n",
      "  Downloading duckdb-1.2.1-cp311-cp311-manylinux_2_17_x86_64.manylinux2014_x86_64.whl.metadata (966 bytes)\n",
      "Collecting pyarrow_hotfix (from -r requirements.txt (line 10))\n",
      "  Downloading pyarrow_hotfix-0.6-py3-none-any.whl.metadata (3.6 kB)\n",
      "Collecting altair<6,>=4.0 (from streamlit==1.42.0->-r requirements.txt (line 1))\n",
      "  Downloading altair-5.5.0-py3-none-any.whl.metadata (11 kB)\n",
      "Collecting blinker<2,>=1.0.0 (from streamlit==1.42.0->-r requirements.txt (line 1))\n",
      "  Downloading blinker-1.9.0-py3-none-any.whl.metadata (1.6 kB)\n",
      "Requirement already satisfied: cachetools<6,>=4.0 in /opt/app-root/lib64/python3.11/site-packages (from streamlit==1.42.0->-r requirements.txt (line 1)) (5.5.1)\n",
      "Requirement already satisfied: click<9,>=7.0 in /opt/app-root/lib64/python3.11/site-packages (from streamlit==1.42.0->-r requirements.txt (line 1)) (8.1.8)\n",
      "Requirement already satisfied: numpy<3,>=1.23 in /opt/app-root/lib64/python3.11/site-packages (from streamlit==1.42.0->-r requirements.txt (line 1)) (2.1.3)\n",
      "Requirement already satisfied: packaging<25,>=20 in /opt/app-root/lib64/python3.11/site-packages (from streamlit==1.42.0->-r requirements.txt (line 1)) (24.2)\n",
      "Requirement already satisfied: pillow<12,>=7.1.0 in /opt/app-root/lib64/python3.11/site-packages (from streamlit==1.42.0->-r requirements.txt (line 1)) (11.1.0)\n",
      "Requirement already satisfied: protobuf<6,>=3.20 in /opt/app-root/lib64/python3.11/site-packages (from streamlit==1.42.0->-r requirements.txt (line 1)) (4.25.6)\n",
      "Requirement already satisfied: pyarrow>=7.0 in /opt/app-root/lib64/python3.11/site-packages (from streamlit==1.42.0->-r requirements.txt (line 1)) (19.0.0)\n",
      "Requirement already satisfied: requests<3,>=2.27 in /opt/app-root/lib64/python3.11/site-packages (from streamlit==1.42.0->-r requirements.txt (line 1)) (2.32.3)\n",
      "Requirement already satisfied: rich<14,>=10.14.0 in /opt/app-root/lib64/python3.11/site-packages (from streamlit==1.42.0->-r requirements.txt (line 1)) (13.9.4)\n",
      "Requirement already satisfied: tenacity<10,>=8.1.0 in /opt/app-root/lib64/python3.11/site-packages (from streamlit==1.42.0->-r requirements.txt (line 1)) (9.0.0)\n",
      "Collecting toml<2,>=0.10.1 (from streamlit==1.42.0->-r requirements.txt (line 1))\n",
      "  Downloading toml-0.10.2-py2.py3-none-any.whl.metadata (7.1 kB)\n",
      "Requirement already satisfied: typing-extensions<5,>=4.4.0 in /opt/app-root/lib64/python3.11/site-packages (from streamlit==1.42.0->-r requirements.txt (line 1)) (4.12.2)\n",
      "Requirement already satisfied: watchdog<7,>=2.1.5 in /opt/app-root/lib64/python3.11/site-packages (from streamlit==1.42.0->-r requirements.txt (line 1)) (6.0.0)\n",
      "Requirement already satisfied: gitpython!=3.1.19,<4,>=3.0.7 in /opt/app-root/lib64/python3.11/site-packages (from streamlit==1.42.0->-r requirements.txt (line 1)) (3.1.44)\n",
      "Collecting pydeck<1,>=0.8.0b4 (from streamlit==1.42.0->-r requirements.txt (line 1))\n",
      "  Downloading pydeck-0.9.1-py2.py3-none-any.whl.metadata (4.1 kB)\n",
      "Requirement already satisfied: tornado<7,>=6.0.3 in /opt/app-root/lib64/python3.11/site-packages (from streamlit==1.42.0->-r requirements.txt (line 1)) (6.4.2)\n",
      "Requirement already satisfied: scipy in /opt/app-root/lib64/python3.11/site-packages (from shap->-r requirements.txt (line 2)) (1.14.1)\n",
      "Requirement already satisfied: tqdm>=4.27.0 in /opt/app-root/lib64/python3.11/site-packages (from shap->-r requirements.txt (line 2)) (4.67.1)\n",
      "Collecting slicer==0.0.8 (from shap->-r requirements.txt (line 2))\n",
      "  Downloading slicer-0.0.8-py3-none-any.whl.metadata (4.0 kB)\n",
      "Collecting numba>=0.54 (from shap->-r requirements.txt (line 2))\n",
      "  Downloading numba-0.61.0-cp311-cp311-manylinux2014_x86_64.manylinux_2_17_x86_64.whl.metadata (2.8 kB)\n",
      "Collecting cloudpickle (from shap->-r requirements.txt (line 2))\n",
      "  Downloading cloudpickle-3.1.1-py3-none-any.whl.metadata (7.1 kB)\n",
      "Requirement already satisfied: python-dateutil>=2.8.2 in /opt/app-root/lib64/python3.11/site-packages (from pandas->-r requirements.txt (line 3)) (2.9.0.post0)\n",
      "Requirement already satisfied: pytz>=2020.1 in /opt/app-root/lib64/python3.11/site-packages (from pandas->-r requirements.txt (line 3)) (2025.1)\n",
      "Requirement already satisfied: tzdata>=2022.7 in /opt/app-root/lib64/python3.11/site-packages (from pandas->-r requirements.txt (line 3)) (2025.1)\n",
      "Requirement already satisfied: joblib>=1.2.0 in /opt/app-root/lib64/python3.11/site-packages (from scikit-learn->-r requirements.txt (line 4)) (1.4.2)\n",
      "Requirement already satisfied: threadpoolctl>=3.1.0 in /opt/app-root/lib64/python3.11/site-packages (from scikit-learn->-r requirements.txt (line 4)) (3.5.0)\n",
      "Requirement already satisfied: contourpy>=1.0.1 in /opt/app-root/lib64/python3.11/site-packages (from matplotlib->-r requirements.txt (line 5)) (1.3.1)\n",
      "Requirement already satisfied: cycler>=0.10 in /opt/app-root/lib64/python3.11/site-packages (from matplotlib->-r requirements.txt (line 5)) (0.12.1)\n",
      "Requirement already satisfied: fonttools>=4.22.0 in /opt/app-root/lib64/python3.11/site-packages (from matplotlib->-r requirements.txt (line 5)) (4.56.0)\n",
      "Requirement already satisfied: kiwisolver>=1.3.1 in /opt/app-root/lib64/python3.11/site-packages (from matplotlib->-r requirements.txt (line 5)) (1.4.8)\n",
      "Requirement already satisfied: pyparsing>=2.3.1 in /opt/app-root/lib64/python3.11/site-packages (from matplotlib->-r requirements.txt (line 5)) (3.2.1)\n",
      "Requirement already satisfied: colorama<1,>=0.3.9 in /opt/app-root/lib64/python3.11/site-packages (from feast->-r requirements.txt (line 6)) (0.4.6)\n",
      "Requirement already satisfied: dill~=0.3.0 in /opt/app-root/lib64/python3.11/site-packages (from feast->-r requirements.txt (line 6)) (0.3.9)\n",
      "Requirement already satisfied: Jinja2<4,>=2 in /opt/app-root/lib64/python3.11/site-packages (from feast->-r requirements.txt (line 6)) (3.1.5)\n",
      "Requirement already satisfied: jsonschema in /opt/app-root/lib64/python3.11/site-packages (from feast->-r requirements.txt (line 6)) (4.23.0)\n",
      "Collecting mmh3 (from feast->-r requirements.txt (line 6))\n",
      "  Downloading mmh3-5.1.0-cp311-cp311-manylinux_2_5_x86_64.manylinux1_x86_64.manylinux_2_17_x86_64.manylinux2014_x86_64.whl.metadata (16 kB)\n",
      "Collecting numpy<3,>=1.23 (from streamlit==1.42.0->-r requirements.txt (line 1))\n",
      "  Downloading numpy-1.26.4-cp311-cp311-manylinux_2_17_x86_64.manylinux2014_x86_64.whl.metadata (61 kB)\n",
      "Collecting pyarrow>=7.0 (from streamlit==1.42.0->-r requirements.txt (line 1))\n",
      "  Downloading pyarrow-18.0.0-cp311-cp311-manylinux_2_28_x86_64.whl.metadata (3.3 kB)\n",
      "Collecting pydantic>=2.0.0 (from feast->-r requirements.txt (line 6))\n",
      "  Downloading pydantic-2.10.6-py3-none-any.whl.metadata (30 kB)\n",
      "Requirement already satisfied: pygments<3,>=2.12.0 in /opt/app-root/lib64/python3.11/site-packages (from feast->-r requirements.txt (line 6)) (2.19.1)\n",
      "Requirement already satisfied: PyYAML<7,>=5.4.0 in /opt/app-root/lib64/python3.11/site-packages (from feast->-r requirements.txt (line 6)) (6.0.2)\n",
      "Collecting SQLAlchemy>1 (from SQLAlchemy[mypy]>1->feast->-r requirements.txt (line 6))\n",
      "  Downloading sqlalchemy-2.0.39-cp311-cp311-manylinux_2_17_x86_64.manylinux2014_x86_64.whl.metadata (9.6 kB)\n",
      "Requirement already satisfied: tabulate<1,>=0.8.0 in /opt/app-root/lib64/python3.11/site-packages (from feast->-r requirements.txt (line 6)) (0.9.0)\n",
      "Collecting tenacity<10,>=8.1.0 (from streamlit==1.42.0->-r requirements.txt (line 1))\n",
      "  Downloading tenacity-8.5.0-py3-none-any.whl.metadata (1.2 kB)\n",
      "Collecting typeguard>=4.0.0 (from feast->-r requirements.txt (line 6))\n",
      "  Downloading typeguard-4.4.2-py3-none-any.whl.metadata (3.8 kB)\n",
      "Collecting fastapi>=0.68.0 (from feast->-r requirements.txt (line 6))\n",
      "  Downloading fastapi-0.115.11-py3-none-any.whl.metadata (27 kB)\n",
      "Collecting uvicorn<1,>=0.14.0 (from uvicorn[standard]<1,>=0.14.0->feast->-r requirements.txt (line 6))\n",
      "  Downloading uvicorn-0.34.0-py3-none-any.whl.metadata (6.5 kB)\n",
      "Collecting uvicorn-worker (from feast->-r requirements.txt (line 6))\n",
      "  Downloading uvicorn_worker-0.3.0-py3-none-any.whl.metadata (2.6 kB)\n",
      "Collecting gunicorn (from feast->-r requirements.txt (line 6))\n",
      "  Downloading gunicorn-23.0.0-py3-none-any.whl.metadata (4.4 kB)\n",
      "Collecting dask>=2024.2.1 (from dask[dataframe]>=2024.2.1->feast->-r requirements.txt (line 6))\n",
      "  Downloading dask-2025.2.0-py3-none-any.whl.metadata (3.8 kB)\n",
      "Requirement already satisfied: prometheus_client in /opt/app-root/lib64/python3.11/site-packages (from feast->-r requirements.txt (line 6)) (0.21.1)\n",
      "Requirement already satisfied: psutil in /opt/app-root/lib64/python3.11/site-packages (from feast->-r requirements.txt (line 6)) (5.9.8)\n",
      "Collecting bigtree>=0.19.2 (from feast->-r requirements.txt (line 6))\n",
      "  Downloading bigtree-0.25.2-py3-none-any.whl.metadata (8.9 kB)\n",
      "Requirement already satisfied: pyjwt in /opt/app-root/lib64/python3.11/site-packages (from feast->-r requirements.txt (line 6)) (2.10.1)\n",
      "Collecting atpublic>=2.3 (from ibis-framework->-r requirements.txt (line 7))\n",
      "  Downloading atpublic-5.1-py3-none-any.whl.metadata (1.8 kB)\n",
      "Collecting parsy>=2 (from ibis-framework->-r requirements.txt (line 7))\n",
      "  Downloading parsy-2.1-py3-none-any.whl.metadata (3.3 kB)\n",
      "Collecting sqlglot>=23.4 (from ibis-framework->-r requirements.txt (line 7))\n",
      "  Downloading sqlglot-26.10.1-py3-none-any.whl.metadata (20 kB)\n",
      "Collecting toolz>=0.11 (from ibis-framework->-r requirements.txt (line 7))\n",
      "  Downloading toolz-1.0.0-py3-none-any.whl.metadata (5.1 kB)\n",
      "Collecting narwhals>=1.14.2 (from altair<6,>=4.0->streamlit==1.42.0->-r requirements.txt (line 1))\n",
      "  Downloading narwhals-1.30.0-py3-none-any.whl.metadata (11 kB)\n",
      "Requirement already satisfied: fsspec>=2021.09.0 in /opt/app-root/lib64/python3.11/site-packages (from dask>=2024.2.1->dask[dataframe]>=2024.2.1->feast->-r requirements.txt (line 6)) (2025.2.0)\n",
      "Collecting partd>=1.4.0 (from dask>=2024.2.1->dask[dataframe]>=2024.2.1->feast->-r requirements.txt (line 6))\n",
      "  Downloading partd-1.4.2-py3-none-any.whl.metadata (4.6 kB)\n",
      "Collecting importlib_metadata>=4.13.0 (from dask>=2024.2.1->dask[dataframe]>=2024.2.1->feast->-r requirements.txt (line 6))\n",
      "  Downloading importlib_metadata-8.6.1-py3-none-any.whl.metadata (4.7 kB)\n",
      "Collecting starlette<0.47.0,>=0.40.0 (from fastapi>=0.68.0->feast->-r requirements.txt (line 6))\n",
      "  Downloading starlette-0.46.1-py3-none-any.whl.metadata (6.2 kB)\n",
      "Requirement already satisfied: gitdb<5,>=4.0.1 in /opt/app-root/lib64/python3.11/site-packages (from gitpython!=3.1.19,<4,>=3.0.7->streamlit==1.42.0->-r requirements.txt (line 1)) (4.0.12)\n",
      "Requirement already satisfied: MarkupSafe>=2.0 in /opt/app-root/lib64/python3.11/site-packages (from Jinja2<4,>=2->feast->-r requirements.txt (line 6)) (3.0.2)\n",
      "Requirement already satisfied: attrs>=22.2.0 in /opt/app-root/lib64/python3.11/site-packages (from jsonschema->feast->-r requirements.txt (line 6)) (25.1.0)\n",
      "Requirement already satisfied: jsonschema-specifications>=2023.03.6 in /opt/app-root/lib64/python3.11/site-packages (from jsonschema->feast->-r requirements.txt (line 6)) (2024.10.1)\n",
      "Requirement already satisfied: referencing>=0.28.4 in /opt/app-root/lib64/python3.11/site-packages (from jsonschema->feast->-r requirements.txt (line 6)) (0.36.2)\n",
      "Requirement already satisfied: rpds-py>=0.7.1 in /opt/app-root/lib64/python3.11/site-packages (from jsonschema->feast->-r requirements.txt (line 6)) (0.22.3)\n",
      "Collecting llvmlite<0.45,>=0.44.0dev0 (from numba>=0.54->shap->-r requirements.txt (line 2))\n",
      "  Downloading llvmlite-0.44.0-cp311-cp311-manylinux_2_17_x86_64.manylinux2014_x86_64.whl.metadata (4.8 kB)\n",
      "Collecting annotated-types>=0.6.0 (from pydantic>=2.0.0->feast->-r requirements.txt (line 6))\n",
      "  Downloading annotated_types-0.7.0-py3-none-any.whl.metadata (15 kB)\n",
      "Collecting pydantic-core==2.27.2 (from pydantic>=2.0.0->feast->-r requirements.txt (line 6))\n",
      "  Downloading pydantic_core-2.27.2-cp311-cp311-manylinux_2_17_x86_64.manylinux2014_x86_64.whl.metadata (6.6 kB)\n",
      "Requirement already satisfied: six>=1.5 in /opt/app-root/lib64/python3.11/site-packages (from python-dateutil>=2.8.2->pandas->-r requirements.txt (line 3)) (1.17.0)\n",
      "Requirement already satisfied: charset-normalizer<4,>=2 in /opt/app-root/lib64/python3.11/site-packages (from requests<3,>=2.27->streamlit==1.42.0->-r requirements.txt (line 1)) (3.4.1)\n",
      "Requirement already satisfied: idna<4,>=2.5 in /opt/app-root/lib64/python3.11/site-packages (from requests<3,>=2.27->streamlit==1.42.0->-r requirements.txt (line 1)) (3.10)\n",
      "Requirement already satisfied: urllib3<3,>=1.21.1 in /opt/app-root/lib64/python3.11/site-packages (from requests<3,>=2.27->streamlit==1.42.0->-r requirements.txt (line 1)) (1.26.20)\n",
      "Requirement already satisfied: certifi>=2017.4.17 in /opt/app-root/lib64/python3.11/site-packages (from requests<3,>=2.27->streamlit==1.42.0->-r requirements.txt (line 1)) (2025.1.31)\n",
      "Requirement already satisfied: markdown-it-py>=2.2.0 in /opt/app-root/lib64/python3.11/site-packages (from rich<14,>=10.14.0->streamlit==1.42.0->-r requirements.txt (line 1)) (3.0.0)\n",
      "Collecting greenlet!=0.4.17 (from SQLAlchemy>1->SQLAlchemy[mypy]>1->feast->-r requirements.txt (line 6))\n",
      "  Downloading greenlet-3.1.1-cp311-cp311-manylinux_2_24_x86_64.manylinux_2_28_x86_64.whl.metadata (3.8 kB)\n",
      "Collecting mypy>=0.910 (from SQLAlchemy[mypy]>1->feast->-r requirements.txt (line 6))\n",
      "  Downloading mypy-1.15.0-cp311-cp311-manylinux_2_17_x86_64.manylinux2014_x86_64.manylinux_2_28_x86_64.whl.metadata (2.1 kB)\n",
      "Requirement already satisfied: h11>=0.8 in /opt/app-root/lib64/python3.11/site-packages (from uvicorn<1,>=0.14.0->uvicorn[standard]<1,>=0.14.0->feast->-r requirements.txt (line 6)) (0.14.0)\n",
      "Collecting httptools>=0.6.3 (from uvicorn[standard]<1,>=0.14.0->feast->-r requirements.txt (line 6))\n",
      "  Downloading httptools-0.6.4-cp311-cp311-manylinux_2_5_x86_64.manylinux1_x86_64.manylinux_2_17_x86_64.manylinux2014_x86_64.whl.metadata (3.6 kB)\n",
      "Collecting python-dotenv>=0.13 (from uvicorn[standard]<1,>=0.14.0->feast->-r requirements.txt (line 6))\n",
      "  Downloading python_dotenv-1.0.1-py3-none-any.whl.metadata (23 kB)\n",
      "Collecting uvloop!=0.15.0,!=0.15.1,>=0.14.0 (from uvicorn[standard]<1,>=0.14.0->feast->-r requirements.txt (line 6))\n",
      "  Downloading uvloop-0.21.0-cp311-cp311-manylinux_2_17_x86_64.manylinux2014_x86_64.whl.metadata (4.9 kB)\n",
      "Collecting watchfiles>=0.13 (from uvicorn[standard]<1,>=0.14.0->feast->-r requirements.txt (line 6))\n",
      "  Downloading watchfiles-1.0.4-cp311-cp311-manylinux_2_17_x86_64.manylinux2014_x86_64.whl.metadata (4.9 kB)\n",
      "Collecting websockets>=10.4 (from uvicorn[standard]<1,>=0.14.0->feast->-r requirements.txt (line 6))\n",
      "  Downloading websockets-15.0.1-cp311-cp311-manylinux_2_5_x86_64.manylinux1_x86_64.manylinux_2_17_x86_64.manylinux2014_x86_64.whl.metadata (6.8 kB)\n",
      "Requirement already satisfied: smmap<6,>=3.0.1 in /opt/app-root/lib64/python3.11/site-packages (from gitdb<5,>=4.0.1->gitpython!=3.1.19,<4,>=3.0.7->streamlit==1.42.0->-r requirements.txt (line 1)) (5.0.2)\n",
      "Collecting zipp>=3.20 (from importlib_metadata>=4.13.0->dask>=2024.2.1->dask[dataframe]>=2024.2.1->feast->-r requirements.txt (line 6))\n",
      "  Downloading zipp-3.21.0-py3-none-any.whl.metadata (3.7 kB)\n",
      "Requirement already satisfied: mdurl~=0.1 in /opt/app-root/lib64/python3.11/site-packages (from markdown-it-py>=2.2.0->rich<14,>=10.14.0->streamlit==1.42.0->-r requirements.txt (line 1)) (0.1.2)\n",
      "Requirement already satisfied: mypy_extensions>=1.0.0 in /opt/app-root/lib64/python3.11/site-packages (from mypy>=0.910->SQLAlchemy[mypy]>1->feast->-r requirements.txt (line 6)) (1.0.0)\n",
      "Collecting locket (from partd>=1.4.0->dask>=2024.2.1->dask[dataframe]>=2024.2.1->feast->-r requirements.txt (line 6))\n",
      "  Downloading locket-1.0.0-py2.py3-none-any.whl.metadata (2.8 kB)\n",
      "Requirement already satisfied: anyio<5,>=3.6.2 in /opt/app-root/lib64/python3.11/site-packages (from starlette<0.47.0,>=0.40.0->fastapi>=0.68.0->feast->-r requirements.txt (line 6)) (4.8.0)\n",
      "Requirement already satisfied: sniffio>=1.1 in /opt/app-root/lib64/python3.11/site-packages (from anyio<5,>=3.6.2->starlette<0.47.0,>=0.40.0->fastapi>=0.68.0->feast->-r requirements.txt (line 6)) (1.3.1)\n",
      "Downloading streamlit-1.42.0-py2.py3-none-any.whl (9.6 MB)\n",
      "\u001b[2K   \u001b[90m━━━━━━━━━━━━━━━━━━━━━━━━━━━━━━━━━━━━━━━━\u001b[0m \u001b[32m9.6/9.6 MB\u001b[0m \u001b[31m193.5 MB/s\u001b[0m eta \u001b[36m0:00:00\u001b[0m\n",
      "\u001b[?25hDownloading shap-0.47.0-cp311-cp311-manylinux_2_17_x86_64.manylinux2014_x86_64.whl (1.0 MB)\n",
      "\u001b[2K   \u001b[90m━━━━━━━━━━━━━━━━━━━━━━━━━━━━━━━━━━━━━━━━\u001b[0m \u001b[32m1.0/1.0 MB\u001b[0m \u001b[31m721.2 MB/s\u001b[0m eta \u001b[36m0:00:00\u001b[0m\n",
      "\u001b[?25hDownloading slicer-0.0.8-py3-none-any.whl (15 kB)\n",
      "Downloading feast-0.47.0-py2.py3-none-any.whl (5.5 MB)\n",
      "\u001b[2K   \u001b[90m━━━━━━━━━━━━━━━━━━━━━━━━━━━━━━━━━━━━━━━━\u001b[0m \u001b[32m5.5/5.5 MB\u001b[0m \u001b[31m305.9 MB/s\u001b[0m eta \u001b[36m0:00:00\u001b[0m\n",
      "\u001b[?25hDownloading ibis_framework-10.3.1-py3-none-any.whl (1.9 MB)\n",
      "\u001b[2K   \u001b[90m━━━━━━━━━━━━━━━━━━━━━━━━━━━━━━━━━━━━━━━━\u001b[0m \u001b[32m1.9/1.9 MB\u001b[0m \u001b[31m427.9 MB/s\u001b[0m eta \u001b[36m0:00:00\u001b[0m\n",
      "\u001b[?25hDownloading redis-5.2.1-py3-none-any.whl (261 kB)\n",
      "Downloading duckdb-1.2.1-cp311-cp311-manylinux_2_17_x86_64.manylinux2014_x86_64.whl (20.2 MB)\n",
      "\u001b[2K   \u001b[90m━━━━━━━━━━━━━━━━━━━━━━━━━━━━━━━━━━━━━━━━\u001b[0m \u001b[32m20.2/20.2 MB\u001b[0m \u001b[31m182.2 MB/s\u001b[0m eta \u001b[36m0:00:00\u001b[0m\n",
      "\u001b[?25hDownloading pyarrow_hotfix-0.6-py3-none-any.whl (7.9 kB)\n",
      "Downloading altair-5.5.0-py3-none-any.whl (731 kB)\n",
      "\u001b[2K   \u001b[90m━━━━━━━━━━━━━━━━━━━━━━━━━━━━━━━━━━━━━━━\u001b[0m \u001b[32m731.2/731.2 kB\u001b[0m \u001b[31m304.3 MB/s\u001b[0m eta \u001b[36m0:00:00\u001b[0m\n",
      "\u001b[?25hDownloading atpublic-5.1-py3-none-any.whl (5.2 kB)\n",
      "Downloading bigtree-0.25.2-py3-none-any.whl (94 kB)\n",
      "Downloading blinker-1.9.0-py3-none-any.whl (8.5 kB)\n",
      "Downloading dask-2025.2.0-py3-none-any.whl (1.4 MB)\n",
      "\u001b[2K   \u001b[90m━━━━━━━━━━━━━━━━━━━━━━━━━━━━━━━━━━━━━━━━\u001b[0m \u001b[32m1.4/1.4 MB\u001b[0m \u001b[31m449.6 MB/s\u001b[0m eta \u001b[36m0:00:00\u001b[0m\n",
      "\u001b[?25hDownloading cloudpickle-3.1.1-py3-none-any.whl (20 kB)\n",
      "Downloading fastapi-0.115.11-py3-none-any.whl (94 kB)\n",
      "Downloading numba-0.61.0-cp311-cp311-manylinux2014_x86_64.manylinux_2_17_x86_64.whl (3.8 MB)\n",
      "\u001b[2K   \u001b[90m━━━━━━━━━━━━━━━━━━━━━━━━━━━━━━━━━━━━━━━━\u001b[0m \u001b[32m3.8/3.8 MB\u001b[0m \u001b[31m261.1 MB/s\u001b[0m eta \u001b[36m0:00:00\u001b[0m\n",
      "\u001b[?25hDownloading numpy-1.26.4-cp311-cp311-manylinux_2_17_x86_64.manylinux2014_x86_64.whl (18.3 MB)\n",
      "\u001b[2K   \u001b[90m━━━━━━━━━━━━━━━━━━━━━━━━━━━━━━━━━━━━━━━━\u001b[0m \u001b[32m18.3/18.3 MB\u001b[0m \u001b[31m448.4 MB/s\u001b[0m eta \u001b[36m0:00:00\u001b[0m\n",
      "\u001b[?25hDownloading parsy-2.1-py3-none-any.whl (9.1 kB)\n",
      "Downloading pyarrow-18.0.0-cp311-cp311-manylinux_2_28_x86_64.whl (40.0 MB)\n",
      "\u001b[2K   \u001b[90m━━━━━━━━━━━━━━━━━━━━━━━━━━━━━━━━━━━━━━━━\u001b[0m \u001b[32m40.0/40.0 MB\u001b[0m \u001b[31m195.8 MB/s\u001b[0m eta \u001b[36m0:00:00\u001b[0ma \u001b[36m0:00:01\u001b[0m\n",
      "\u001b[?25hDownloading pydantic-2.10.6-py3-none-any.whl (431 kB)\n",
      "Downloading pydantic_core-2.27.2-cp311-cp311-manylinux_2_17_x86_64.manylinux2014_x86_64.whl (2.0 MB)\n",
      "\u001b[2K   \u001b[90m━━━━━━━━━━━━━━━━━━━━━━━━━━━━━━━━━━━━━━━━\u001b[0m \u001b[32m2.0/2.0 MB\u001b[0m \u001b[31m414.8 MB/s\u001b[0m eta \u001b[36m0:00:00\u001b[0m\n",
      "\u001b[?25hDownloading pydeck-0.9.1-py2.py3-none-any.whl (6.9 MB)\n",
      "\u001b[2K   \u001b[90m━━━━━━━━━━━━━━━━━━━━━━━━━━━━━━━━━━━━━━━━\u001b[0m \u001b[32m6.9/6.9 MB\u001b[0m \u001b[31m267.1 MB/s\u001b[0m eta \u001b[36m0:00:00\u001b[0m\n",
      "\u001b[?25hDownloading sqlalchemy-2.0.39-cp311-cp311-manylinux_2_17_x86_64.manylinux2014_x86_64.whl (3.2 MB)\n",
      "\u001b[2K   \u001b[90m━━━━━━━━━━━━━━━━━━━━━━━━━━━━━━━━━━━━━━━━\u001b[0m \u001b[32m3.2/3.2 MB\u001b[0m \u001b[31m508.5 MB/s\u001b[0m eta \u001b[36m0:00:00\u001b[0m\n",
      "\u001b[?25hDownloading sqlglot-26.10.1-py3-none-any.whl (453 kB)\n",
      "Downloading tenacity-8.5.0-py3-none-any.whl (28 kB)\n",
      "Downloading toml-0.10.2-py2.py3-none-any.whl (16 kB)\n",
      "Downloading toolz-1.0.0-py3-none-any.whl (56 kB)\n",
      "Downloading typeguard-4.4.2-py3-none-any.whl (35 kB)\n",
      "Downloading uvicorn-0.34.0-py3-none-any.whl (62 kB)\n",
      "Downloading gunicorn-23.0.0-py3-none-any.whl (85 kB)\n",
      "Downloading mmh3-5.1.0-cp311-cp311-manylinux_2_5_x86_64.manylinux1_x86_64.manylinux_2_17_x86_64.manylinux2014_x86_64.whl (101 kB)\n",
      "Downloading uvicorn_worker-0.3.0-py3-none-any.whl (5.3 kB)\n",
      "Downloading annotated_types-0.7.0-py3-none-any.whl (13 kB)\n",
      "Downloading greenlet-3.1.1-cp311-cp311-manylinux_2_24_x86_64.manylinux_2_28_x86_64.whl (602 kB)\n",
      "\u001b[2K   \u001b[90m━━━━━━━━━━━━━━━━━━━━━━━━━━━━━━━━━━━━━━━\u001b[0m \u001b[32m602.4/602.4 kB\u001b[0m \u001b[31m625.0 MB/s\u001b[0m eta \u001b[36m0:00:00\u001b[0m\n",
      "\u001b[?25hDownloading httptools-0.6.4-cp311-cp311-manylinux_2_5_x86_64.manylinux1_x86_64.manylinux_2_17_x86_64.manylinux2014_x86_64.whl (459 kB)\n",
      "Downloading importlib_metadata-8.6.1-py3-none-any.whl (26 kB)\n",
      "Downloading llvmlite-0.44.0-cp311-cp311-manylinux_2_17_x86_64.manylinux2014_x86_64.whl (42.4 MB)\n",
      "\u001b[2K   \u001b[90m━━━━━━━━━━━━━━━━━━━━━━━━━━━━━━━━━━━━━━━━\u001b[0m \u001b[32m42.4/42.4 MB\u001b[0m \u001b[31m167.9 MB/s\u001b[0m eta \u001b[36m0:00:00\u001b[0ma \u001b[36m0:00:01\u001b[0m\n",
      "\u001b[?25hDownloading mypy-1.15.0-cp311-cp311-manylinux_2_17_x86_64.manylinux2014_x86_64.manylinux_2_28_x86_64.whl (12.3 MB)\n",
      "\u001b[2K   \u001b[90m━━━━━━━━━━━━━━━━━━━━━━━━━━━━━━━━━━━━━━━━\u001b[0m \u001b[32m12.3/12.3 MB\u001b[0m \u001b[31m317.4 MB/s\u001b[0m eta \u001b[36m0:00:00\u001b[0m\n",
      "\u001b[?25hDownloading narwhals-1.30.0-py3-none-any.whl (313 kB)\n",
      "Downloading partd-1.4.2-py3-none-any.whl (18 kB)\n",
      "Downloading python_dotenv-1.0.1-py3-none-any.whl (19 kB)\n",
      "Downloading starlette-0.46.1-py3-none-any.whl (71 kB)\n",
      "Downloading uvloop-0.21.0-cp311-cp311-manylinux_2_17_x86_64.manylinux2014_x86_64.whl (4.0 MB)\n",
      "\u001b[2K   \u001b[90m━━━━━━━━━━━━━━━━━━━━━━━━━━━━━━━━━━━━━━━━\u001b[0m \u001b[32m4.0/4.0 MB\u001b[0m \u001b[31m458.2 MB/s\u001b[0m eta \u001b[36m0:00:00\u001b[0m\n",
      "\u001b[?25hDownloading watchfiles-1.0.4-cp311-cp311-manylinux_2_17_x86_64.manylinux2014_x86_64.whl (452 kB)\n",
      "Downloading websockets-15.0.1-cp311-cp311-manylinux_2_5_x86_64.manylinux1_x86_64.manylinux_2_17_x86_64.manylinux2014_x86_64.whl (182 kB)\n",
      "Downloading zipp-3.21.0-py3-none-any.whl (9.6 kB)\n",
      "Downloading locket-1.0.0-py2.py3-none-any.whl (4.4 kB)\n",
      "Installing collected packages: zipp, websockets, uvloop, uvicorn, typeguard, toolz, toml, tenacity, sqlglot, slicer, redis, python-dotenv, pydantic-core, pyarrow_hotfix, pyarrow, parsy, numpy, narwhals, mypy, mmh3, locket, llvmlite, httptools, gunicorn, greenlet, duckdb, cloudpickle, blinker, bigtree, atpublic, annotated-types, watchfiles, uvicorn-worker, starlette, SQLAlchemy, pydeck, pydantic, partd, numba, importlib_metadata, ibis-framework, fastapi, dask, shap, altair, streamlit, feast\n",
      "  Attempting uninstall: tenacity\n",
      "    Found existing installation: tenacity 9.0.0\n",
      "    Uninstalling tenacity-9.0.0:\n",
      "      Successfully uninstalled tenacity-9.0.0\n",
      "  Attempting uninstall: pyarrow\n",
      "    Found existing installation: pyarrow 19.0.0\n",
      "    Uninstalling pyarrow-19.0.0:\n",
      "      Successfully uninstalled pyarrow-19.0.0\n",
      "  Attempting uninstall: numpy\n",
      "    Found existing installation: numpy 2.1.3\n",
      "    Uninstalling numpy-2.1.3:\n",
      "      Successfully uninstalled numpy-2.1.3\n",
      "  Attempting uninstall: pydantic\n",
      "    Found existing installation: pydantic 1.10.21\n",
      "    Uninstalling pydantic-1.10.21:\n",
      "      Successfully uninstalled pydantic-1.10.21\n",
      "\u001b[31mERROR: pip's dependency resolver does not currently take into account all the packages that are installed. This behaviour is the source of the following dependency conflicts.\n",
      "codeflare-sdk 0.26.0 requires pydantic<2, but you have pydantic 2.10.6 which is incompatible.\u001b[0m\u001b[31m\n",
      "\u001b[0mSuccessfully installed SQLAlchemy-2.0.39 altair-5.5.0 annotated-types-0.7.0 atpublic-5.1 bigtree-0.25.2 blinker-1.9.0 cloudpickle-3.1.1 dask-2025.2.0 duckdb-1.2.1 fastapi-0.115.11 feast-0.47.0 greenlet-3.1.1 gunicorn-23.0.0 httptools-0.6.4 ibis-framework-10.3.1 importlib_metadata-8.6.1 llvmlite-0.44.0 locket-1.0.0 mmh3-5.1.0 mypy-1.15.0 narwhals-1.30.0 numba-0.61.0 numpy-1.26.4 parsy-2.1 partd-1.4.2 pyarrow-18.0.0 pyarrow_hotfix-0.6 pydantic-2.10.6 pydantic-core-2.27.2 pydeck-0.9.1 python-dotenv-1.0.1 redis-5.2.1 shap-0.47.0 slicer-0.0.8 sqlglot-26.10.1 starlette-0.46.1 streamlit-1.42.0 tenacity-8.5.0 toml-0.10.2 toolz-1.0.0 typeguard-4.4.2 uvicorn-0.34.0 uvicorn-worker-0.3.0 uvloop-0.21.0 watchfiles-1.0.4 websockets-15.0.1 zipp-3.21.0\n"
     ]
    }
   ],
   "source": [
    "!pip install --upgrade pip && pip install -r requirements.txt"
   ]
  },
  {
   "cell_type": "markdown",
   "metadata": {},
   "source": [
    "## Initialize the feature store"
   ]
  },
  {
   "cell_type": "code",
   "execution_count": 3,
   "metadata": {},
   "outputs": [
    {
     "name": "stdout",
     "output_type": "stream",
     "text": [
      "No project found in the repository. Using project name credit_scoring_local defined in feature_store.yaml\n",
      "Applying changes for project credit_scoring_local\n",
      "/opt/app-root/lib64/python3.11/site-packages/feast/feature_store.py:581: RuntimeWarning: On demand feature view is an experimental feature. This API is stable, but the functionality does not scale well for offline retrieval\n",
      "  warnings.warn(\n",
      "Deploying infrastructure for \u001b[1m\u001b[32mcredit_history\u001b[0m\n",
      "Deploying infrastructure for \u001b[1m\u001b[32mzipcode_features\u001b[0m\n"
     ]
    }
   ],
   "source": [
    "!feast -c $HOME/feast-credit-score-local-tutorial/feature_repo apply"
   ]
  },
  {
   "cell_type": "markdown",
   "metadata": {},
   "source": [
    "## Materialize the data into the online feature store"
   ]
  },
  {
   "cell_type": "code",
   "execution_count": 5,
   "metadata": {},
   "outputs": [
    {
     "name": "stdout",
     "output_type": "stream",
     "text": [
      "Materializing \u001b[1m\u001b[32m2\u001b[0m feature views from \u001b[1m\u001b[32m1990-01-01 00:00:00+00:00\u001b[0m to \u001b[1m\u001b[32m2025-03-14 19:24:09+00:00\u001b[0m into the \u001b[1m\u001b[32mredis\u001b[0m online store.\n",
      "\n",
      "\u001b[1m\u001b[32mcredit_history\u001b[0m:\n",
      "100%|██████████████████████████████████████████████████████| 28633/28633 [00:02<00:00, 11834.60it/s]\n",
      "\u001b[1m\u001b[32mzipcode_features\u001b[0m:\n",
      "100%|██████████████████████████████████████████████████████| 28844/28844 [00:01<00:00, 14910.20it/s]\n"
     ]
    }
   ],
   "source": [
    "!feast -c $HOME/feast-credit-score-local-tutorial/feature_repo materialize 1990-01-01T00:00:00 $(date -u +\"%Y-%m-%dT%H:%M:%S\")"
   ]
  },
  {
   "cell_type": "code",
   "execution_count": 6,
   "metadata": {},
   "outputs": [
    {
     "name": "stdout",
     "output_type": "stream",
     "text": [
      "Starting model training...\n",
      "Model has been trained successfully\n",
      "Submitting a prediction to the model with data {'zipcode': [76104], 'dob_ssn': ['19630621_4278'], 'person_age': [133], 'person_income': [59000], 'person_home_ownership': ['RENT'], 'person_emp_length': [123.0], 'loan_intent': ['PERSONAL'], 'loan_amnt': [35000], 'loan_int_rate': [16.02]}\n",
      "Data returned from online store for request:\n",
      "         dob_ssn  total_debt_due  credit_card_due  mortgage_due  \\\n",
      "0  19630621_4278        473071.0             3343        378847   \n",
      "\n",
      "   student_loan_due  vehicle_loan_due  loan_amnt  \n",
      "0             44375             11506      35000  \n",
      "Loan rejected!\n"
     ]
    }
   ],
   "source": [
    "!python run.py"
   ]
  },
  {
   "cell_type": "markdown",
   "metadata": {},
   "source": [
    "## Explore some entities, etc. on Feast"
   ]
  },
  {
   "cell_type": "code",
   "execution_count": 7,
   "metadata": {},
   "outputs": [
    {
     "name": "stdout",
     "output_type": "stream",
     "text": [
      "NAME              CLASS\n",
      "application_data  <class 'feast.data_source.RequestSource'>\n",
      "Zipcode source    <class 'feast.infra.offline_stores.file_source.FileSource'>\n",
      "Credit history    <class 'feast.infra.offline_stores.file_source.FileSource'>\n"
     ]
    }
   ],
   "source": [
    "!feast -c $HOME/feast-credit-score-local-tutorial/feature_repo data-sources list"
   ]
  },
  {
   "cell_type": "code",
   "execution_count": 8,
   "metadata": {},
   "outputs": [
    {
     "name": "stdout",
     "output_type": "stream",
     "text": [
      "NAME     DESCRIPTION                                                   TYPE\n",
      "zipcode                                                                ValueType.INT64\n",
      "dob_ssn  Date of birth and last four digits of social security number  ValueType.STRING\n"
     ]
    }
   ],
   "source": [
    "!feast -c $HOME/feast-credit-score-local-tutorial/feature_repo entities list"
   ]
  },
  {
   "cell_type": "code",
   "execution_count": 9,
   "metadata": {},
   "outputs": [
    {
     "name": "stdout",
     "output_type": "stream",
     "text": [
      "NAME              ENTITIES     TYPE\n",
      "credit_history    {'dob_ssn'}  FeatureView\n",
      "zipcode_features  {'zipcode'}  FeatureView\n",
      "total_debt_calc   {'dob_ssn'}  OnDemandFeatureView\n"
     ]
    }
   ],
   "source": [
    "!feast -c $HOME/feast-credit-score-local-tutorial/feature_repo feature-views list"
   ]
  },
  {
   "cell_type": "code",
   "execution_count": 10,
   "metadata": {},
   "outputs": [
    {
     "name": "stdout",
     "output_type": "stream",
     "text": [
      "spec:\n",
      "  name: total_debt_calc\n",
      "  features:\n",
      "  - name: total_debt_due\n",
      "    valueType: DOUBLE\n",
      "  sources:\n",
      "    application_data:\n",
      "      requestDataSource:\n",
      "        type: REQUEST_SOURCE\n",
      "        requestDataOptions:\n",
      "          schema:\n",
      "          - name: loan_amnt\n",
      "            valueType: INT64\n",
      "        name: application_data\n",
      "    credit_history:\n",
      "      featureViewProjection:\n",
      "        featureViewName: credit_history\n",
      "        featureColumns:\n",
      "        - name: credit_card_due\n",
      "          valueType: INT64\n",
      "        - name: mortgage_due\n",
      "          valueType: INT64\n",
      "        - name: student_loan_due\n",
      "          valueType: INT64\n",
      "        - name: vehicle_loan_due\n",
      "          valueType: INT64\n",
      "        - name: hard_pulls\n",
      "          valueType: INT64\n",
      "        - name: missed_payments_2y\n",
      "          valueType: INT64\n",
      "        - name: missed_payments_1y\n",
      "          valueType: INT64\n",
      "        - name: missed_payments_6m\n",
      "          valueType: INT64\n",
      "        - name: bankruptcies\n",
      "          valueType: INT64\n",
      "        timestampField: created_timestamp\n",
      "        createdTimestampColumn: created_timestamp\n",
      "        batchSource:\n",
      "          type: BATCH_FILE\n",
      "          timestampField: event_timestamp\n",
      "          createdTimestampColumn: created_timestamp\n",
      "          fileOptions:\n",
      "            fileFormat:\n",
      "              parquetFormat: {}\n",
      "            uri: data/credit_history.parquet\n",
      "          name: Credit history\n",
      "  featureTransformation:\n",
      "    userDefinedFunction:\n",
      "      name: total_debt_calc\n",
      "      body: gASVRwMAAAAAAACMCmRpbGwuX2RpbGyUjBBfY3JlYXRlX2Z1bmN0aW9ulJOUKGgAjAxfY3JlYXRlX2NvZGWUk5QoQxYCCyYCIAEO/wQBDv8EAg7+BAMw/AgFlEsBSwBLAEsCSwNLA0O6lwB0AQAAAAAAAAAAAABqAQAAAAAAAAAApgAAAKsAAAAAAAAAAAB9AXwAZAEZAAAAAAAAAAAAfABkAhkAAAAAAAAAAAB6AAAAfABkAxkAAAAAAAAAAAB6AAAAfABkBBkAAAAAAAAAAAB6AAAAfABkBRkAAAAAAAAAAAB6AAAAoAIAAAAAAAAAAAAAAAAAAAAAAAAAAHQGAAAAAAAAAAAAAKYBAACrAQAAAAAAAAAAfAFkBjwAAAB8AVMAlChOjA9jcmVkaXRfY2FyZF9kdWWUjAxtb3J0Z2FnZV9kdWWUjBBzdHVkZW50X2xvYW5fZHVllIwQdmVoaWNsZV9sb2FuX2R1ZZSMCWxvYW5fYW1udJSMDnRvdGFsX2RlYnRfZHVllHSUKIwCcGSUjAlEYXRhRnJhbWWUjAZhc3R5cGWUjAVmbG9hdJR0lIwLZmVhdHVyZXNfZGaUjAJkZpSGlIxML29wdC9hcHAtcm9vdC9zcmMvZmVhc3QtY3JlZGl0LXNjb3JlLWxvY2FsLXR1dG9yaWFsL2ZlYXR1cmVfcmVwby9mZWF0dXJlcy5weZSMD3RvdGFsX2RlYnRfY2FsY5RoF0tRQ2uAAPUWAAoMjByJHowegELgCBPQFCXUCCaoG7Be1ClE0QhE2AgT0BQm1Agn8QMBCSjYKjXQNkjUKknxAwEJSgHgCBOQS9QIIPEFAgkh9wYABw2CZo1VgW2EbfAJAAUH0AcX0QQY8AoADA6ASZRDAJQpKXSUUpR9lIwIX19uYW1lX1+UjAhfX21haW5fX5RzaBdOTnSUUpR9lH2UjA9fX2Fubm90YXRpb25zX1+UfZQoaBOMEXBhbmRhcy5jb3JlLmZyYW1llGgPk5SMBnJldHVybpRoJnVzhpRiaBwojAJwZJRoAIwOX2ltcG9ydF9tb2R1bGWUk5SMBnBhbmRhc5SFlFKUjAVmbG9hdJRoAIwKX2xvYWRfdHlwZZSTlGgRhZRSlHUwLg==\n",
      "      bodyText: \"@on_demand_feature_view(\\n   sources=[\\n       credit_history,\\n\\\n",
      "        \\       input_request,\\n   ],\\n   schema=[\\n     Field(name='total_debt_due',\\\n",
      "        \\ dtype=Float64),\\n   ],\\n   mode=\\\"pandas\\\",\\n)\\ndef total_debt_calc(features_df:\\\n",
      "        \\ pd.DataFrame) -> pd.DataFrame:\\n    df = pd.DataFrame()\\n    df['total_debt_due']\\\n",
      "        \\ = (\\n        features_df['credit_card_due'] + features_df['mortgage_due']\\\n",
      "        \\ + \\n        features_df['student_loan_due'] + features_df['vehicle_loan_due']\\\n",
      "        \\ + \\n        features_df['loan_amnt']\\n    ).astype(float)\\n    return df\\\n",
      "        \\ \\n\"\n",
      "  mode: pandas\n",
      "  entities:\n",
      "  - __dummy\n",
      "  entityColumns:\n",
      "  - name: __dummy_id\n",
      "    valueType: STRING\n",
      "meta:\n",
      "  createdTimestamp: '2025-03-14T19:23:51.765002Z'\n",
      "  lastUpdatedTimestamp: '2025-03-14T19:23:51.765002Z'\n",
      "\n"
     ]
    }
   ],
   "source": [
    "!feast -c $HOME/feast-credit-score-local-tutorial/feature_repo on-demand-feature-views describe total_debt_calc"
   ]
  }
 ],
 "metadata": {
  "kernelspec": {
   "display_name": "Python 3.11",
   "language": "python",
   "name": "python3"
  },
  "language_info": {
   "codemirror_mode": {
    "name": "ipython",
    "version": 3
   },
   "file_extension": ".py",
   "mimetype": "text/x-python",
   "name": "python",
   "nbconvert_exporter": "python",
   "pygments_lexer": "ipython3",
   "version": "3.11.9"
  }
 },
 "nbformat": 4,
 "nbformat_minor": 4
}
